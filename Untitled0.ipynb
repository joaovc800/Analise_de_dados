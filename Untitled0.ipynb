{
  "nbformat": 4,
  "nbformat_minor": 0,
  "metadata": {
    "colab": {
      "name": "Untitled0.ipynb",
      "provenance": [],
      "collapsed_sections": [],
      "toc_visible": true,
      "authorship_tag": "ABX9TyMEqUG+9TV0qWXDdva3S3Xb",
      "include_colab_link": true
    },
    "kernelspec": {
      "name": "python3",
      "display_name": "Python 3"
    },
    "language_info": {
      "name": "python"
    }
  },
  "cells": [
    {
      "cell_type": "markdown",
      "metadata": {
        "id": "view-in-github",
        "colab_type": "text"
      },
      "source": [
        "<a href=\"https://colab.research.google.com/github/joaovc800/Analise_de_dados/blob/main/Untitled0.ipynb\" target=\"_parent\"><img src=\"https://colab.research.google.com/assets/colab-badge.svg\" alt=\"Open In Colab\"/></a>"
      ]
    },
    {
      "cell_type": "code",
      "metadata": {
        "id": "ByQiwtABUdLB"
      },
      "source": [
        "#importando a biblioteca\n",
        "import pandas as pd"
      ],
      "execution_count": null,
      "outputs": []
    },
    {
      "cell_type": "code",
      "metadata": {
        "id": "lDrkHNLnUoaL"
      },
      "source": [
        "#Leitura de arquivos\n",
        "df1 = pd.read_excel(\"/content/mg.xlsx\")\n",
        "df2 = pd.read_excel(\"/content/rj.xlsx\")\n",
        "df3 = pd.read_excel(\"/content/sp.xlsx\")"
      ],
      "execution_count": null,
      "outputs": []
    },
    {
      "cell_type": "code",
      "metadata": {
        "id": "Hr-KRNfRXrPx"
      },
      "source": [
        "df = pd.concat([df1,df2,df3])"
      ],
      "execution_count": null,
      "outputs": []
    },
    {
      "cell_type": "code",
      "metadata": {
        "colab": {
          "base_uri": "https://localhost:8080/",
          "height": 204
        },
        "id": "8iu6lC8kYPc7",
        "outputId": "f2b1cee6-1007-4e87-df51-b9a6cd20b71b"
      },
      "source": [
        "df.head()"
      ],
      "execution_count": null,
      "outputs": [
        {
          "output_type": "execute_result",
          "data": {
            "text/html": [
              "<div>\n",
              "<style scoped>\n",
              "    .dataframe tbody tr th:only-of-type {\n",
              "        vertical-align: middle;\n",
              "    }\n",
              "\n",
              "    .dataframe tbody tr th {\n",
              "        vertical-align: top;\n",
              "    }\n",
              "\n",
              "    .dataframe thead th {\n",
              "        text-align: right;\n",
              "    }\n",
              "</style>\n",
              "<table border=\"1\" class=\"dataframe\">\n",
              "  <thead>\n",
              "    <tr style=\"text-align: right;\">\n",
              "      <th></th>\n",
              "      <th>Vendedor</th>\n",
              "      <th>Produto</th>\n",
              "      <th>Cidades</th>\n",
              "      <th>Valor</th>\n",
              "      <th>data</th>\n",
              "    </tr>\n",
              "  </thead>\n",
              "  <tbody>\n",
              "    <tr>\n",
              "      <th>0</th>\n",
              "      <td>Joao</td>\n",
              "      <td>Celular</td>\n",
              "      <td>Minas Gerais</td>\n",
              "      <td>535</td>\n",
              "      <td>2020-10-24</td>\n",
              "    </tr>\n",
              "    <tr>\n",
              "      <th>1</th>\n",
              "      <td>Denis</td>\n",
              "      <td>Notbook</td>\n",
              "      <td>Minas Gerais</td>\n",
              "      <td>108</td>\n",
              "      <td>2020-10-25</td>\n",
              "    </tr>\n",
              "    <tr>\n",
              "      <th>2</th>\n",
              "      <td>Danson</td>\n",
              "      <td>Bateria</td>\n",
              "      <td>Minas Gerais</td>\n",
              "      <td>317</td>\n",
              "      <td>2020-10-26</td>\n",
              "    </tr>\n",
              "    <tr>\n",
              "      <th>3</th>\n",
              "      <td>Joeu</td>\n",
              "      <td>Telas</td>\n",
              "      <td>Minas Gerais</td>\n",
              "      <td>382</td>\n",
              "      <td>2020-10-27</td>\n",
              "    </tr>\n",
              "    <tr>\n",
              "      <th>4</th>\n",
              "      <td>Kisha</td>\n",
              "      <td>Flets</td>\n",
              "      <td>Minas Gerais</td>\n",
              "      <td>561</td>\n",
              "      <td>2020-10-28</td>\n",
              "    </tr>\n",
              "  </tbody>\n",
              "</table>\n",
              "</div>"
            ],
            "text/plain": [
              "  Vendedor  Produto       Cidades  Valor        data\n",
              "0     Joao  Celular  Minas Gerais    535  2020-10-24\n",
              "1    Denis  Notbook  Minas Gerais    108  2020-10-25\n",
              "2   Danson  Bateria  Minas Gerais    317  2020-10-26\n",
              "3     Joeu    Telas  Minas Gerais    382  2020-10-27\n",
              "4    Kisha    Flets  Minas Gerais    561  2020-10-28"
            ]
          },
          "metadata": {
            "tags": []
          },
          "execution_count": 36
        }
      ]
    },
    {
      "cell_type": "code",
      "metadata": {
        "colab": {
          "base_uri": "https://localhost:8080/",
          "height": 204
        },
        "id": "oZvc3RKnYRYy",
        "outputId": "874550e3-c538-48f8-c9cf-fb4dc5c196bb"
      },
      "source": [
        "df.tail()"
      ],
      "execution_count": null,
      "outputs": [
        {
          "output_type": "execute_result",
          "data": {
            "text/html": [
              "<div>\n",
              "<style scoped>\n",
              "    .dataframe tbody tr th:only-of-type {\n",
              "        vertical-align: middle;\n",
              "    }\n",
              "\n",
              "    .dataframe tbody tr th {\n",
              "        vertical-align: top;\n",
              "    }\n",
              "\n",
              "    .dataframe thead th {\n",
              "        text-align: right;\n",
              "    }\n",
              "</style>\n",
              "<table border=\"1\" class=\"dataframe\">\n",
              "  <thead>\n",
              "    <tr style=\"text-align: right;\">\n",
              "      <th></th>\n",
              "      <th>Vendedor</th>\n",
              "      <th>Produto</th>\n",
              "      <th>Cidades</th>\n",
              "      <th>Valor</th>\n",
              "      <th>data</th>\n",
              "    </tr>\n",
              "  </thead>\n",
              "  <tbody>\n",
              "    <tr>\n",
              "      <th>6</th>\n",
              "      <td>Panton</td>\n",
              "      <td>Capa</td>\n",
              "      <td>São Paulo</td>\n",
              "      <td>520</td>\n",
              "      <td>2020-10-30</td>\n",
              "    </tr>\n",
              "    <tr>\n",
              "      <th>7</th>\n",
              "      <td>Olaff</td>\n",
              "      <td>carregador</td>\n",
              "      <td>São Paulo</td>\n",
              "      <td>156</td>\n",
              "      <td>2020-11-2</td>\n",
              "    </tr>\n",
              "    <tr>\n",
              "      <th>8</th>\n",
              "      <td>Simba</td>\n",
              "      <td>cameras</td>\n",
              "      <td>São Paulo</td>\n",
              "      <td>314</td>\n",
              "      <td>2020-11-3</td>\n",
              "    </tr>\n",
              "    <tr>\n",
              "      <th>9</th>\n",
              "      <td>Diego</td>\n",
              "      <td>Silver</td>\n",
              "      <td>São Paulo</td>\n",
              "      <td>522</td>\n",
              "      <td>2020-11-4</td>\n",
              "    </tr>\n",
              "    <tr>\n",
              "      <th>10</th>\n",
              "      <td>Kali</td>\n",
              "      <td>Gold</td>\n",
              "      <td>São Paulo</td>\n",
              "      <td>156</td>\n",
              "      <td>2020-11-5</td>\n",
              "    </tr>\n",
              "  </tbody>\n",
              "</table>\n",
              "</div>"
            ],
            "text/plain": [
              "   Vendedor     Produto    Cidades  Valor        data\n",
              "6    Panton        Capa  São Paulo    520  2020-10-30\n",
              "7     Olaff  carregador  São Paulo    156   2020-11-2\n",
              "8     Simba     cameras  São Paulo    314   2020-11-3\n",
              "9     Diego      Silver  São Paulo    522   2020-11-4\n",
              "10     Kali        Gold  São Paulo    156   2020-11-5"
            ]
          },
          "metadata": {
            "tags": []
          },
          "execution_count": 37
        }
      ]
    },
    {
      "cell_type": "code",
      "metadata": {
        "colab": {
          "base_uri": "https://localhost:8080/",
          "height": 204
        },
        "id": "KCwnKIQkYTCp",
        "outputId": "f327aef8-2900-4a41-bae9-2bd13ba8d414"
      },
      "source": [
        "df.sample(5)"
      ],
      "execution_count": null,
      "outputs": [
        {
          "output_type": "execute_result",
          "data": {
            "text/html": [
              "<div>\n",
              "<style scoped>\n",
              "    .dataframe tbody tr th:only-of-type {\n",
              "        vertical-align: middle;\n",
              "    }\n",
              "\n",
              "    .dataframe tbody tr th {\n",
              "        vertical-align: top;\n",
              "    }\n",
              "\n",
              "    .dataframe thead th {\n",
              "        text-align: right;\n",
              "    }\n",
              "</style>\n",
              "<table border=\"1\" class=\"dataframe\">\n",
              "  <thead>\n",
              "    <tr style=\"text-align: right;\">\n",
              "      <th></th>\n",
              "      <th>Vendedor</th>\n",
              "      <th>Produto</th>\n",
              "      <th>Cidades</th>\n",
              "      <th>Valor</th>\n",
              "      <th>data</th>\n",
              "    </tr>\n",
              "  </thead>\n",
              "  <tbody>\n",
              "    <tr>\n",
              "      <th>0</th>\n",
              "      <td>Joao</td>\n",
              "      <td>Celular</td>\n",
              "      <td>Rio de janeiro</td>\n",
              "      <td>535</td>\n",
              "      <td>2020-10-24</td>\n",
              "    </tr>\n",
              "    <tr>\n",
              "      <th>8</th>\n",
              "      <td>Simba</td>\n",
              "      <td>cameras</td>\n",
              "      <td>São Paulo</td>\n",
              "      <td>314</td>\n",
              "      <td>2020-11-3</td>\n",
              "    </tr>\n",
              "    <tr>\n",
              "      <th>3</th>\n",
              "      <td>Joeu</td>\n",
              "      <td>Telas</td>\n",
              "      <td>São Paulo</td>\n",
              "      <td>382</td>\n",
              "      <td>2020-10-27</td>\n",
              "    </tr>\n",
              "    <tr>\n",
              "      <th>3</th>\n",
              "      <td>Joeu</td>\n",
              "      <td>Telas</td>\n",
              "      <td>Rio de janeiro</td>\n",
              "      <td>382</td>\n",
              "      <td>2020-10-27</td>\n",
              "    </tr>\n",
              "    <tr>\n",
              "      <th>8</th>\n",
              "      <td>Simba</td>\n",
              "      <td>cameras</td>\n",
              "      <td>Rio de janeiro</td>\n",
              "      <td>314</td>\n",
              "      <td>2020-11-3</td>\n",
              "    </tr>\n",
              "  </tbody>\n",
              "</table>\n",
              "</div>"
            ],
            "text/plain": [
              "  Vendedor  Produto         Cidades  Valor        data\n",
              "0     Joao  Celular  Rio de janeiro    535  2020-10-24\n",
              "8    Simba  cameras       São Paulo    314   2020-11-3\n",
              "3     Joeu    Telas       São Paulo    382  2020-10-27\n",
              "3     Joeu    Telas  Rio de janeiro    382  2020-10-27\n",
              "8    Simba  cameras  Rio de janeiro    314   2020-11-3"
            ]
          },
          "metadata": {
            "tags": []
          },
          "execution_count": 38
        }
      ]
    },
    {
      "cell_type": "code",
      "metadata": {
        "colab": {
          "base_uri": "https://localhost:8080/"
        },
        "id": "BtVgT-gQYY2q",
        "outputId": "be3e7206-7757-4674-d515-2c22001a2cb6"
      },
      "source": [
        "df.dtypes"
      ],
      "execution_count": null,
      "outputs": [
        {
          "output_type": "execute_result",
          "data": {
            "text/plain": [
              "Vendedor    object\n",
              "Produto     object\n",
              "Cidades     object\n",
              "Valor        int64\n",
              "data        object\n",
              "dtype: object"
            ]
          },
          "metadata": {
            "tags": []
          },
          "execution_count": 39
        }
      ]
    },
    {
      "cell_type": "code",
      "metadata": {
        "id": "sj3VBMrCYhG5"
      },
      "source": [
        "df[\"Valor\"] = df[\"Valor\"].astype(\"object\")\n",
        "df[\"Valor\"] = df[\"Valor\"].astype(\"int64\")"
      ],
      "execution_count": null,
      "outputs": []
    },
    {
      "cell_type": "code",
      "metadata": {
        "colab": {
          "base_uri": "https://localhost:8080/"
        },
        "id": "G4be2Mi9Yyu5",
        "outputId": "f6dfad68-b59d-4e36-9ec8-a18460cebdac"
      },
      "source": [
        "df.dtypes"
      ],
      "execution_count": null,
      "outputs": [
        {
          "output_type": "execute_result",
          "data": {
            "text/plain": [
              "Vendedor                    object\n",
              "Produto                     object\n",
              "Cidades                     object\n",
              "Valor                        int64\n",
              "data                datetime64[ns]\n",
              "Ano_Venda                    int64\n",
              "mes_venda                    int64\n",
              "dia_venda                    int64\n",
              "diferenca_dias     timedelta64[ns]\n",
              "trimestre_venda              int64\n",
              "dtype: object"
            ]
          },
          "metadata": {
            "tags": []
          },
          "execution_count": 79
        }
      ]
    },
    {
      "cell_type": "code",
      "metadata": {
        "colab": {
          "base_uri": "https://localhost:8080/",
          "height": 204
        },
        "id": "CGAJPzIlYz8B",
        "outputId": "613be455-e606-4938-edf9-91c36d1f0059"
      },
      "source": [
        "df.head()"
      ],
      "execution_count": null,
      "outputs": [
        {
          "output_type": "execute_result",
          "data": {
            "text/html": [
              "<div>\n",
              "<style scoped>\n",
              "    .dataframe tbody tr th:only-of-type {\n",
              "        vertical-align: middle;\n",
              "    }\n",
              "\n",
              "    .dataframe tbody tr th {\n",
              "        vertical-align: top;\n",
              "    }\n",
              "\n",
              "    .dataframe thead th {\n",
              "        text-align: right;\n",
              "    }\n",
              "</style>\n",
              "<table border=\"1\" class=\"dataframe\">\n",
              "  <thead>\n",
              "    <tr style=\"text-align: right;\">\n",
              "      <th></th>\n",
              "      <th>Vendedor</th>\n",
              "      <th>Produto</th>\n",
              "      <th>Cidades</th>\n",
              "      <th>Valor</th>\n",
              "      <th>data</th>\n",
              "    </tr>\n",
              "  </thead>\n",
              "  <tbody>\n",
              "    <tr>\n",
              "      <th>0</th>\n",
              "      <td>Joao</td>\n",
              "      <td>Celular</td>\n",
              "      <td>Minas Gerais</td>\n",
              "      <td>535</td>\n",
              "      <td>2020-10-24</td>\n",
              "    </tr>\n",
              "    <tr>\n",
              "      <th>1</th>\n",
              "      <td>Denis</td>\n",
              "      <td>Notbook</td>\n",
              "      <td>Minas Gerais</td>\n",
              "      <td>108</td>\n",
              "      <td>2020-10-25</td>\n",
              "    </tr>\n",
              "    <tr>\n",
              "      <th>2</th>\n",
              "      <td>Danson</td>\n",
              "      <td>Bateria</td>\n",
              "      <td>Minas Gerais</td>\n",
              "      <td>317</td>\n",
              "      <td>2020-10-26</td>\n",
              "    </tr>\n",
              "    <tr>\n",
              "      <th>3</th>\n",
              "      <td>Joeu</td>\n",
              "      <td>Telas</td>\n",
              "      <td>Minas Gerais</td>\n",
              "      <td>382</td>\n",
              "      <td>2020-10-27</td>\n",
              "    </tr>\n",
              "    <tr>\n",
              "      <th>4</th>\n",
              "      <td>Kisha</td>\n",
              "      <td>Flets</td>\n",
              "      <td>Minas Gerais</td>\n",
              "      <td>561</td>\n",
              "      <td>2020-10-28</td>\n",
              "    </tr>\n",
              "  </tbody>\n",
              "</table>\n",
              "</div>"
            ],
            "text/plain": [
              "  Vendedor  Produto       Cidades Valor        data\n",
              "0     Joao  Celular  Minas Gerais   535  2020-10-24\n",
              "1    Denis  Notbook  Minas Gerais   108  2020-10-25\n",
              "2   Danson  Bateria  Minas Gerais   317  2020-10-26\n",
              "3     Joeu    Telas  Minas Gerais   382  2020-10-27\n",
              "4    Kisha    Flets  Minas Gerais   561  2020-10-28"
            ]
          },
          "metadata": {
            "tags": []
          },
          "execution_count": 42
        }
      ]
    },
    {
      "cell_type": "code",
      "metadata": {
        "colab": {
          "base_uri": "https://localhost:8080/"
        },
        "id": "kjn0ku4FY3A5",
        "outputId": "33fd018b-8fbe-4f60-8c44-be1fe01ad2e8"
      },
      "source": [
        "df.isnull().sum()"
      ],
      "execution_count": null,
      "outputs": [
        {
          "output_type": "execute_result",
          "data": {
            "text/plain": [
              "Vendedor    0\n",
              "Produto     0\n",
              "Cidades     0\n",
              "Valor       0\n",
              "data        0\n",
              "dtype: int64"
            ]
          },
          "metadata": {
            "tags": []
          },
          "execution_count": 43
        }
      ]
    },
    {
      "cell_type": "code",
      "metadata": {
        "colab": {
          "base_uri": "https://localhost:8080/",
          "height": 514
        },
        "id": "JkhFbmM4Y7qJ",
        "outputId": "d286f644-009f-43d9-8f06-6265f58226cd"
      },
      "source": [
        "df.sample(15)"
      ],
      "execution_count": null,
      "outputs": [
        {
          "output_type": "execute_result",
          "data": {
            "text/html": [
              "<div>\n",
              "<style scoped>\n",
              "    .dataframe tbody tr th:only-of-type {\n",
              "        vertical-align: middle;\n",
              "    }\n",
              "\n",
              "    .dataframe tbody tr th {\n",
              "        vertical-align: top;\n",
              "    }\n",
              "\n",
              "    .dataframe thead th {\n",
              "        text-align: right;\n",
              "    }\n",
              "</style>\n",
              "<table border=\"1\" class=\"dataframe\">\n",
              "  <thead>\n",
              "    <tr style=\"text-align: right;\">\n",
              "      <th></th>\n",
              "      <th>Vendedor</th>\n",
              "      <th>Produto</th>\n",
              "      <th>Cidades</th>\n",
              "      <th>Valor</th>\n",
              "      <th>data</th>\n",
              "    </tr>\n",
              "  </thead>\n",
              "  <tbody>\n",
              "    <tr>\n",
              "      <th>5</th>\n",
              "      <td>Gali</td>\n",
              "      <td>Conector</td>\n",
              "      <td>Rio de janeiro</td>\n",
              "      <td>249</td>\n",
              "      <td>2020-10-29</td>\n",
              "    </tr>\n",
              "    <tr>\n",
              "      <th>3</th>\n",
              "      <td>Joeu</td>\n",
              "      <td>Telas</td>\n",
              "      <td>Rio de janeiro</td>\n",
              "      <td>382</td>\n",
              "      <td>2020-10-27</td>\n",
              "    </tr>\n",
              "    <tr>\n",
              "      <th>6</th>\n",
              "      <td>Panton</td>\n",
              "      <td>Capa</td>\n",
              "      <td>Rio de janeiro</td>\n",
              "      <td>520</td>\n",
              "      <td>2020-10-30</td>\n",
              "    </tr>\n",
              "    <tr>\n",
              "      <th>10</th>\n",
              "      <td>Kali</td>\n",
              "      <td>Gold</td>\n",
              "      <td>Minas Gerais</td>\n",
              "      <td>156</td>\n",
              "      <td>2020-11-5</td>\n",
              "    </tr>\n",
              "    <tr>\n",
              "      <th>7</th>\n",
              "      <td>Olaff</td>\n",
              "      <td>carregador</td>\n",
              "      <td>Rio de janeiro</td>\n",
              "      <td>156</td>\n",
              "      <td>2020-11-2</td>\n",
              "    </tr>\n",
              "    <tr>\n",
              "      <th>4</th>\n",
              "      <td>Kisha</td>\n",
              "      <td>Flets</td>\n",
              "      <td>Rio de janeiro</td>\n",
              "      <td>561</td>\n",
              "      <td>2020-10-28</td>\n",
              "    </tr>\n",
              "    <tr>\n",
              "      <th>1</th>\n",
              "      <td>Denis</td>\n",
              "      <td>Notbook</td>\n",
              "      <td>Minas Gerais</td>\n",
              "      <td>108</td>\n",
              "      <td>2020-10-25</td>\n",
              "    </tr>\n",
              "    <tr>\n",
              "      <th>5</th>\n",
              "      <td>Gali</td>\n",
              "      <td>Conector</td>\n",
              "      <td>São Paulo</td>\n",
              "      <td>249</td>\n",
              "      <td>2020-10-29</td>\n",
              "    </tr>\n",
              "    <tr>\n",
              "      <th>8</th>\n",
              "      <td>Simba</td>\n",
              "      <td>cameras</td>\n",
              "      <td>Rio de janeiro</td>\n",
              "      <td>314</td>\n",
              "      <td>2020-11-3</td>\n",
              "    </tr>\n",
              "    <tr>\n",
              "      <th>2</th>\n",
              "      <td>Danson</td>\n",
              "      <td>Bateria</td>\n",
              "      <td>Rio de janeiro</td>\n",
              "      <td>317</td>\n",
              "      <td>2020-10-26</td>\n",
              "    </tr>\n",
              "    <tr>\n",
              "      <th>1</th>\n",
              "      <td>Denis</td>\n",
              "      <td>Notbook</td>\n",
              "      <td>Rio de janeiro</td>\n",
              "      <td>108</td>\n",
              "      <td>2020-10-25</td>\n",
              "    </tr>\n",
              "    <tr>\n",
              "      <th>8</th>\n",
              "      <td>Simba</td>\n",
              "      <td>cameras</td>\n",
              "      <td>São Paulo</td>\n",
              "      <td>314</td>\n",
              "      <td>2020-11-3</td>\n",
              "    </tr>\n",
              "    <tr>\n",
              "      <th>7</th>\n",
              "      <td>Olaff</td>\n",
              "      <td>carregador</td>\n",
              "      <td>São Paulo</td>\n",
              "      <td>156</td>\n",
              "      <td>2020-11-2</td>\n",
              "    </tr>\n",
              "    <tr>\n",
              "      <th>10</th>\n",
              "      <td>Kali</td>\n",
              "      <td>Gold</td>\n",
              "      <td>São Paulo</td>\n",
              "      <td>156</td>\n",
              "      <td>2020-11-5</td>\n",
              "    </tr>\n",
              "    <tr>\n",
              "      <th>3</th>\n",
              "      <td>Joeu</td>\n",
              "      <td>Telas</td>\n",
              "      <td>Minas Gerais</td>\n",
              "      <td>382</td>\n",
              "      <td>2020-10-27</td>\n",
              "    </tr>\n",
              "  </tbody>\n",
              "</table>\n",
              "</div>"
            ],
            "text/plain": [
              "   Vendedor     Produto         Cidades Valor        data\n",
              "5      Gali    Conector  Rio de janeiro   249  2020-10-29\n",
              "3      Joeu       Telas  Rio de janeiro   382  2020-10-27\n",
              "6    Panton        Capa  Rio de janeiro   520  2020-10-30\n",
              "10     Kali        Gold    Minas Gerais   156   2020-11-5\n",
              "7     Olaff  carregador  Rio de janeiro   156   2020-11-2\n",
              "4     Kisha       Flets  Rio de janeiro   561  2020-10-28\n",
              "1     Denis     Notbook    Minas Gerais   108  2020-10-25\n",
              "5      Gali    Conector       São Paulo   249  2020-10-29\n",
              "8     Simba     cameras  Rio de janeiro   314   2020-11-3\n",
              "2    Danson     Bateria  Rio de janeiro   317  2020-10-26\n",
              "1     Denis     Notbook  Rio de janeiro   108  2020-10-25\n",
              "8     Simba     cameras       São Paulo   314   2020-11-3\n",
              "7     Olaff  carregador       São Paulo   156   2020-11-2\n",
              "10     Kali        Gold       São Paulo   156   2020-11-5\n",
              "3      Joeu       Telas    Minas Gerais   382  2020-10-27"
            ]
          },
          "metadata": {
            "tags": []
          },
          "execution_count": 44
        }
      ]
    },
    {
      "cell_type": "code",
      "metadata": {
        "colab": {
          "base_uri": "https://localhost:8080/"
        },
        "id": "lqOj19orZTM5",
        "outputId": "0b02d965-7f82-4f34-f996-113a02b3e992"
      },
      "source": [
        "df[\"Valor\"].mean()"
      ],
      "execution_count": null,
      "outputs": [
        {
          "output_type": "execute_result",
          "data": {
            "text/plain": [
              "347.27272727272725"
            ]
          },
          "metadata": {
            "tags": []
          },
          "execution_count": 45
        }
      ]
    },
    {
      "cell_type": "code",
      "metadata": {
        "id": "DxeKItkyZrCY",
        "colab": {
          "base_uri": "https://localhost:8080/"
        },
        "outputId": "b7d3d761-473b-4cb9-9021-c74dbd97931f"
      },
      "source": [
        "#Verificando o tipo de dado em cada coluna\n",
        "df.dtypes"
      ],
      "execution_count": null,
      "outputs": [
        {
          "output_type": "execute_result",
          "data": {
            "text/plain": [
              "Vendedor    object\n",
              "Produto     object\n",
              "Cidades     object\n",
              "Valor       object\n",
              "data        object\n",
              "dtype: object"
            ]
          },
          "metadata": {
            "tags": []
          },
          "execution_count": 46
        }
      ]
    },
    {
      "cell_type": "code",
      "metadata": {
        "id": "voYvhKqBbuQD"
      },
      "source": [
        "#transformando a coluna de data em datas\n",
        "df[\"data\"] = pd.to_datetime(df[\"data\"])"
      ],
      "execution_count": null,
      "outputs": []
    },
    {
      "cell_type": "code",
      "metadata": {
        "colab": {
          "base_uri": "https://localhost:8080/"
        },
        "id": "vDNDAvYyb-Gx",
        "outputId": "ba3cbb0d-0a03-4768-968d-3cf75953ccdf"
      },
      "source": [
        "df.dtypes"
      ],
      "execution_count": null,
      "outputs": [
        {
          "output_type": "execute_result",
          "data": {
            "text/plain": [
              "Vendedor            object\n",
              "Produto             object\n",
              "Cidades             object\n",
              "Valor               object\n",
              "data        datetime64[ns]\n",
              "dtype: object"
            ]
          },
          "metadata": {
            "tags": []
          },
          "execution_count": 49
        }
      ]
    },
    {
      "cell_type": "code",
      "metadata": {
        "id": "Hajhlsp0cDjo"
      },
      "source": [
        "df[\"Ano_Venda\"] = df[\"data\"].dt.year"
      ],
      "execution_count": null,
      "outputs": []
    },
    {
      "cell_type": "code",
      "metadata": {
        "colab": {
          "base_uri": "https://localhost:8080/",
          "height": 204
        },
        "id": "xNZSZjkpcXf5",
        "outputId": "e2c9c5fc-ff61-47ce-f7ec-f2949c735c2c"
      },
      "source": [
        "df.sample(5)"
      ],
      "execution_count": null,
      "outputs": [
        {
          "output_type": "execute_result",
          "data": {
            "text/html": [
              "<div>\n",
              "<style scoped>\n",
              "    .dataframe tbody tr th:only-of-type {\n",
              "        vertical-align: middle;\n",
              "    }\n",
              "\n",
              "    .dataframe tbody tr th {\n",
              "        vertical-align: top;\n",
              "    }\n",
              "\n",
              "    .dataframe thead th {\n",
              "        text-align: right;\n",
              "    }\n",
              "</style>\n",
              "<table border=\"1\" class=\"dataframe\">\n",
              "  <thead>\n",
              "    <tr style=\"text-align: right;\">\n",
              "      <th></th>\n",
              "      <th>Vendedor</th>\n",
              "      <th>Produto</th>\n",
              "      <th>Cidades</th>\n",
              "      <th>Valor</th>\n",
              "      <th>data</th>\n",
              "      <th>Ano_Venda</th>\n",
              "    </tr>\n",
              "  </thead>\n",
              "  <tbody>\n",
              "    <tr>\n",
              "      <th>5</th>\n",
              "      <td>Gali</td>\n",
              "      <td>Conector</td>\n",
              "      <td>Rio de janeiro</td>\n",
              "      <td>249</td>\n",
              "      <td>2020-10-29</td>\n",
              "      <td>2020</td>\n",
              "    </tr>\n",
              "    <tr>\n",
              "      <th>2</th>\n",
              "      <td>Danson</td>\n",
              "      <td>Bateria</td>\n",
              "      <td>Rio de janeiro</td>\n",
              "      <td>317</td>\n",
              "      <td>2020-10-26</td>\n",
              "      <td>2020</td>\n",
              "    </tr>\n",
              "    <tr>\n",
              "      <th>9</th>\n",
              "      <td>Diego</td>\n",
              "      <td>Silver</td>\n",
              "      <td>Minas Gerais</td>\n",
              "      <td>522</td>\n",
              "      <td>2020-11-04</td>\n",
              "      <td>2020</td>\n",
              "    </tr>\n",
              "    <tr>\n",
              "      <th>6</th>\n",
              "      <td>Panton</td>\n",
              "      <td>Capa</td>\n",
              "      <td>Minas Gerais</td>\n",
              "      <td>520</td>\n",
              "      <td>2020-10-30</td>\n",
              "      <td>2020</td>\n",
              "    </tr>\n",
              "    <tr>\n",
              "      <th>0</th>\n",
              "      <td>Joao</td>\n",
              "      <td>Celular</td>\n",
              "      <td>Rio de janeiro</td>\n",
              "      <td>535</td>\n",
              "      <td>2020-10-24</td>\n",
              "      <td>2020</td>\n",
              "    </tr>\n",
              "  </tbody>\n",
              "</table>\n",
              "</div>"
            ],
            "text/plain": [
              "  Vendedor   Produto         Cidades Valor       data  Ano_Venda\n",
              "5     Gali  Conector  Rio de janeiro   249 2020-10-29       2020\n",
              "2   Danson   Bateria  Rio de janeiro   317 2020-10-26       2020\n",
              "9    Diego    Silver    Minas Gerais   522 2020-11-04       2020\n",
              "6   Panton      Capa    Minas Gerais   520 2020-10-30       2020\n",
              "0     Joao   Celular  Rio de janeiro   535 2020-10-24       2020"
            ]
          },
          "metadata": {
            "tags": []
          },
          "execution_count": 54
        }
      ]
    },
    {
      "cell_type": "code",
      "metadata": {
        "colab": {
          "base_uri": "https://localhost:8080/",
          "height": 359
        },
        "id": "-tYOF7Bzc2wI",
        "outputId": "76794432-046a-4b08-af63-c211185f6614"
      },
      "source": [
        "df[\"mes_venda\"], df[\"dia_venda\"] = (df[\"data\"].dt.month, df[\"data\"].dt.day)\n",
        "df.sample(10)"
      ],
      "execution_count": null,
      "outputs": [
        {
          "output_type": "execute_result",
          "data": {
            "text/html": [
              "<div>\n",
              "<style scoped>\n",
              "    .dataframe tbody tr th:only-of-type {\n",
              "        vertical-align: middle;\n",
              "    }\n",
              "\n",
              "    .dataframe tbody tr th {\n",
              "        vertical-align: top;\n",
              "    }\n",
              "\n",
              "    .dataframe thead th {\n",
              "        text-align: right;\n",
              "    }\n",
              "</style>\n",
              "<table border=\"1\" class=\"dataframe\">\n",
              "  <thead>\n",
              "    <tr style=\"text-align: right;\">\n",
              "      <th></th>\n",
              "      <th>Vendedor</th>\n",
              "      <th>Produto</th>\n",
              "      <th>Cidades</th>\n",
              "      <th>Valor</th>\n",
              "      <th>data</th>\n",
              "      <th>Ano_Venda</th>\n",
              "      <th>mes_venda</th>\n",
              "      <th>dia_venda</th>\n",
              "    </tr>\n",
              "  </thead>\n",
              "  <tbody>\n",
              "    <tr>\n",
              "      <th>1</th>\n",
              "      <td>Denis</td>\n",
              "      <td>Notbook</td>\n",
              "      <td>Rio de janeiro</td>\n",
              "      <td>108</td>\n",
              "      <td>2020-10-25</td>\n",
              "      <td>2020</td>\n",
              "      <td>10</td>\n",
              "      <td>25</td>\n",
              "    </tr>\n",
              "    <tr>\n",
              "      <th>9</th>\n",
              "      <td>Diego</td>\n",
              "      <td>Silver</td>\n",
              "      <td>Minas Gerais</td>\n",
              "      <td>522</td>\n",
              "      <td>2020-11-04</td>\n",
              "      <td>2020</td>\n",
              "      <td>11</td>\n",
              "      <td>4</td>\n",
              "    </tr>\n",
              "    <tr>\n",
              "      <th>2</th>\n",
              "      <td>Danson</td>\n",
              "      <td>Bateria</td>\n",
              "      <td>Rio de janeiro</td>\n",
              "      <td>317</td>\n",
              "      <td>2020-10-26</td>\n",
              "      <td>2020</td>\n",
              "      <td>10</td>\n",
              "      <td>26</td>\n",
              "    </tr>\n",
              "    <tr>\n",
              "      <th>1</th>\n",
              "      <td>Denis</td>\n",
              "      <td>Notbook</td>\n",
              "      <td>São Paulo</td>\n",
              "      <td>108</td>\n",
              "      <td>2020-10-25</td>\n",
              "      <td>2020</td>\n",
              "      <td>10</td>\n",
              "      <td>25</td>\n",
              "    </tr>\n",
              "    <tr>\n",
              "      <th>8</th>\n",
              "      <td>Simba</td>\n",
              "      <td>cameras</td>\n",
              "      <td>Rio de janeiro</td>\n",
              "      <td>314</td>\n",
              "      <td>2020-11-03</td>\n",
              "      <td>2020</td>\n",
              "      <td>11</td>\n",
              "      <td>3</td>\n",
              "    </tr>\n",
              "    <tr>\n",
              "      <th>2</th>\n",
              "      <td>Danson</td>\n",
              "      <td>Bateria</td>\n",
              "      <td>São Paulo</td>\n",
              "      <td>317</td>\n",
              "      <td>2020-10-26</td>\n",
              "      <td>2020</td>\n",
              "      <td>10</td>\n",
              "      <td>26</td>\n",
              "    </tr>\n",
              "    <tr>\n",
              "      <th>0</th>\n",
              "      <td>Joao</td>\n",
              "      <td>Celular</td>\n",
              "      <td>Minas Gerais</td>\n",
              "      <td>535</td>\n",
              "      <td>2020-10-24</td>\n",
              "      <td>2020</td>\n",
              "      <td>10</td>\n",
              "      <td>24</td>\n",
              "    </tr>\n",
              "    <tr>\n",
              "      <th>3</th>\n",
              "      <td>Joeu</td>\n",
              "      <td>Telas</td>\n",
              "      <td>São Paulo</td>\n",
              "      <td>382</td>\n",
              "      <td>2020-10-27</td>\n",
              "      <td>2020</td>\n",
              "      <td>10</td>\n",
              "      <td>27</td>\n",
              "    </tr>\n",
              "    <tr>\n",
              "      <th>4</th>\n",
              "      <td>Kisha</td>\n",
              "      <td>Flets</td>\n",
              "      <td>Rio de janeiro</td>\n",
              "      <td>561</td>\n",
              "      <td>2020-10-28</td>\n",
              "      <td>2020</td>\n",
              "      <td>10</td>\n",
              "      <td>28</td>\n",
              "    </tr>\n",
              "    <tr>\n",
              "      <th>4</th>\n",
              "      <td>Kisha</td>\n",
              "      <td>Flets</td>\n",
              "      <td>Minas Gerais</td>\n",
              "      <td>561</td>\n",
              "      <td>2020-10-28</td>\n",
              "      <td>2020</td>\n",
              "      <td>10</td>\n",
              "      <td>28</td>\n",
              "    </tr>\n",
              "  </tbody>\n",
              "</table>\n",
              "</div>"
            ],
            "text/plain": [
              "  Vendedor  Produto         Cidades  ... Ano_Venda mes_venda  dia_venda\n",
              "1    Denis  Notbook  Rio de janeiro  ...      2020        10         25\n",
              "9    Diego   Silver    Minas Gerais  ...      2020        11          4\n",
              "2   Danson  Bateria  Rio de janeiro  ...      2020        10         26\n",
              "1    Denis  Notbook       São Paulo  ...      2020        10         25\n",
              "8    Simba  cameras  Rio de janeiro  ...      2020        11          3\n",
              "2   Danson  Bateria       São Paulo  ...      2020        10         26\n",
              "0     Joao  Celular    Minas Gerais  ...      2020        10         24\n",
              "3     Joeu    Telas       São Paulo  ...      2020        10         27\n",
              "4    Kisha    Flets  Rio de janeiro  ...      2020        10         28\n",
              "4    Kisha    Flets    Minas Gerais  ...      2020        10         28\n",
              "\n",
              "[10 rows x 8 columns]"
            ]
          },
          "metadata": {
            "tags": []
          },
          "execution_count": 56
        }
      ]
    },
    {
      "cell_type": "code",
      "metadata": {
        "colab": {
          "base_uri": "https://localhost:8080/"
        },
        "id": "_w8W2P-KdTPh",
        "outputId": "6765634e-fd55-4250-cc54-9580593039a1"
      },
      "source": [
        "df[\"data\"].min()"
      ],
      "execution_count": null,
      "outputs": [
        {
          "output_type": "execute_result",
          "data": {
            "text/plain": [
              "Timestamp('2020-10-24 00:00:00')"
            ]
          },
          "metadata": {
            "tags": []
          },
          "execution_count": 57
        }
      ]
    },
    {
      "cell_type": "code",
      "metadata": {
        "colab": {
          "base_uri": "https://localhost:8080/",
          "height": 979
        },
        "id": "pqZ-dh0Rdc3R",
        "outputId": "f9b48eca-af1c-4028-ba3d-cf2509a0e175"
      },
      "source": [
        "df[\"diferenca_dias\"] = df[\"data\"] - df[\"data\"].min()\n",
        "df.sample(30)"
      ],
      "execution_count": null,
      "outputs": [
        {
          "output_type": "execute_result",
          "data": {
            "text/html": [
              "<div>\n",
              "<style scoped>\n",
              "    .dataframe tbody tr th:only-of-type {\n",
              "        vertical-align: middle;\n",
              "    }\n",
              "\n",
              "    .dataframe tbody tr th {\n",
              "        vertical-align: top;\n",
              "    }\n",
              "\n",
              "    .dataframe thead th {\n",
              "        text-align: right;\n",
              "    }\n",
              "</style>\n",
              "<table border=\"1\" class=\"dataframe\">\n",
              "  <thead>\n",
              "    <tr style=\"text-align: right;\">\n",
              "      <th></th>\n",
              "      <th>Vendedor</th>\n",
              "      <th>Produto</th>\n",
              "      <th>Cidades</th>\n",
              "      <th>Valor</th>\n",
              "      <th>data</th>\n",
              "      <th>Ano_Venda</th>\n",
              "      <th>mes_venda</th>\n",
              "      <th>dia_venda</th>\n",
              "      <th>diferenca_dias</th>\n",
              "    </tr>\n",
              "  </thead>\n",
              "  <tbody>\n",
              "    <tr>\n",
              "      <th>1</th>\n",
              "      <td>Denis</td>\n",
              "      <td>Notbook</td>\n",
              "      <td>São Paulo</td>\n",
              "      <td>108</td>\n",
              "      <td>2020-10-25</td>\n",
              "      <td>2020</td>\n",
              "      <td>10</td>\n",
              "      <td>25</td>\n",
              "      <td>1 days</td>\n",
              "    </tr>\n",
              "    <tr>\n",
              "      <th>3</th>\n",
              "      <td>Joeu</td>\n",
              "      <td>Telas</td>\n",
              "      <td>São Paulo</td>\n",
              "      <td>382</td>\n",
              "      <td>2020-10-27</td>\n",
              "      <td>2020</td>\n",
              "      <td>10</td>\n",
              "      <td>27</td>\n",
              "      <td>3 days</td>\n",
              "    </tr>\n",
              "    <tr>\n",
              "      <th>5</th>\n",
              "      <td>Gali</td>\n",
              "      <td>Conector</td>\n",
              "      <td>São Paulo</td>\n",
              "      <td>249</td>\n",
              "      <td>2020-10-29</td>\n",
              "      <td>2020</td>\n",
              "      <td>10</td>\n",
              "      <td>29</td>\n",
              "      <td>5 days</td>\n",
              "    </tr>\n",
              "    <tr>\n",
              "      <th>6</th>\n",
              "      <td>Panton</td>\n",
              "      <td>Capa</td>\n",
              "      <td>Minas Gerais</td>\n",
              "      <td>520</td>\n",
              "      <td>2020-10-30</td>\n",
              "      <td>2020</td>\n",
              "      <td>10</td>\n",
              "      <td>30</td>\n",
              "      <td>6 days</td>\n",
              "    </tr>\n",
              "    <tr>\n",
              "      <th>0</th>\n",
              "      <td>Joao</td>\n",
              "      <td>Celular</td>\n",
              "      <td>Minas Gerais</td>\n",
              "      <td>535</td>\n",
              "      <td>2020-10-24</td>\n",
              "      <td>2020</td>\n",
              "      <td>10</td>\n",
              "      <td>24</td>\n",
              "      <td>0 days</td>\n",
              "    </tr>\n",
              "    <tr>\n",
              "      <th>10</th>\n",
              "      <td>Kali</td>\n",
              "      <td>Gold</td>\n",
              "      <td>Rio de janeiro</td>\n",
              "      <td>156</td>\n",
              "      <td>2020-11-05</td>\n",
              "      <td>2020</td>\n",
              "      <td>11</td>\n",
              "      <td>5</td>\n",
              "      <td>12 days</td>\n",
              "    </tr>\n",
              "    <tr>\n",
              "      <th>6</th>\n",
              "      <td>Panton</td>\n",
              "      <td>Capa</td>\n",
              "      <td>Rio de janeiro</td>\n",
              "      <td>520</td>\n",
              "      <td>2020-10-30</td>\n",
              "      <td>2020</td>\n",
              "      <td>10</td>\n",
              "      <td>30</td>\n",
              "      <td>6 days</td>\n",
              "    </tr>\n",
              "    <tr>\n",
              "      <th>2</th>\n",
              "      <td>Danson</td>\n",
              "      <td>Bateria</td>\n",
              "      <td>Minas Gerais</td>\n",
              "      <td>317</td>\n",
              "      <td>2020-10-26</td>\n",
              "      <td>2020</td>\n",
              "      <td>10</td>\n",
              "      <td>26</td>\n",
              "      <td>2 days</td>\n",
              "    </tr>\n",
              "    <tr>\n",
              "      <th>0</th>\n",
              "      <td>Joao</td>\n",
              "      <td>Celular</td>\n",
              "      <td>São Paulo</td>\n",
              "      <td>535</td>\n",
              "      <td>2020-10-24</td>\n",
              "      <td>2020</td>\n",
              "      <td>10</td>\n",
              "      <td>24</td>\n",
              "      <td>0 days</td>\n",
              "    </tr>\n",
              "    <tr>\n",
              "      <th>6</th>\n",
              "      <td>Panton</td>\n",
              "      <td>Capa</td>\n",
              "      <td>São Paulo</td>\n",
              "      <td>520</td>\n",
              "      <td>2020-10-30</td>\n",
              "      <td>2020</td>\n",
              "      <td>10</td>\n",
              "      <td>30</td>\n",
              "      <td>6 days</td>\n",
              "    </tr>\n",
              "    <tr>\n",
              "      <th>9</th>\n",
              "      <td>Diego</td>\n",
              "      <td>Silver</td>\n",
              "      <td>Rio de janeiro</td>\n",
              "      <td>522</td>\n",
              "      <td>2020-11-04</td>\n",
              "      <td>2020</td>\n",
              "      <td>11</td>\n",
              "      <td>4</td>\n",
              "      <td>11 days</td>\n",
              "    </tr>\n",
              "    <tr>\n",
              "      <th>8</th>\n",
              "      <td>Simba</td>\n",
              "      <td>cameras</td>\n",
              "      <td>São Paulo</td>\n",
              "      <td>314</td>\n",
              "      <td>2020-11-03</td>\n",
              "      <td>2020</td>\n",
              "      <td>11</td>\n",
              "      <td>3</td>\n",
              "      <td>10 days</td>\n",
              "    </tr>\n",
              "    <tr>\n",
              "      <th>5</th>\n",
              "      <td>Gali</td>\n",
              "      <td>Conector</td>\n",
              "      <td>Minas Gerais</td>\n",
              "      <td>249</td>\n",
              "      <td>2020-10-29</td>\n",
              "      <td>2020</td>\n",
              "      <td>10</td>\n",
              "      <td>29</td>\n",
              "      <td>5 days</td>\n",
              "    </tr>\n",
              "    <tr>\n",
              "      <th>4</th>\n",
              "      <td>Kisha</td>\n",
              "      <td>Flets</td>\n",
              "      <td>Rio de janeiro</td>\n",
              "      <td>561</td>\n",
              "      <td>2020-10-28</td>\n",
              "      <td>2020</td>\n",
              "      <td>10</td>\n",
              "      <td>28</td>\n",
              "      <td>4 days</td>\n",
              "    </tr>\n",
              "    <tr>\n",
              "      <th>3</th>\n",
              "      <td>Joeu</td>\n",
              "      <td>Telas</td>\n",
              "      <td>Minas Gerais</td>\n",
              "      <td>382</td>\n",
              "      <td>2020-10-27</td>\n",
              "      <td>2020</td>\n",
              "      <td>10</td>\n",
              "      <td>27</td>\n",
              "      <td>3 days</td>\n",
              "    </tr>\n",
              "    <tr>\n",
              "      <th>7</th>\n",
              "      <td>Olaff</td>\n",
              "      <td>carregador</td>\n",
              "      <td>Minas Gerais</td>\n",
              "      <td>156</td>\n",
              "      <td>2020-11-02</td>\n",
              "      <td>2020</td>\n",
              "      <td>11</td>\n",
              "      <td>2</td>\n",
              "      <td>9 days</td>\n",
              "    </tr>\n",
              "    <tr>\n",
              "      <th>10</th>\n",
              "      <td>Kali</td>\n",
              "      <td>Gold</td>\n",
              "      <td>Minas Gerais</td>\n",
              "      <td>156</td>\n",
              "      <td>2020-11-05</td>\n",
              "      <td>2020</td>\n",
              "      <td>11</td>\n",
              "      <td>5</td>\n",
              "      <td>12 days</td>\n",
              "    </tr>\n",
              "    <tr>\n",
              "      <th>8</th>\n",
              "      <td>Simba</td>\n",
              "      <td>cameras</td>\n",
              "      <td>Rio de janeiro</td>\n",
              "      <td>314</td>\n",
              "      <td>2020-11-03</td>\n",
              "      <td>2020</td>\n",
              "      <td>11</td>\n",
              "      <td>3</td>\n",
              "      <td>10 days</td>\n",
              "    </tr>\n",
              "    <tr>\n",
              "      <th>10</th>\n",
              "      <td>Kali</td>\n",
              "      <td>Gold</td>\n",
              "      <td>São Paulo</td>\n",
              "      <td>156</td>\n",
              "      <td>2020-11-05</td>\n",
              "      <td>2020</td>\n",
              "      <td>11</td>\n",
              "      <td>5</td>\n",
              "      <td>12 days</td>\n",
              "    </tr>\n",
              "    <tr>\n",
              "      <th>9</th>\n",
              "      <td>Diego</td>\n",
              "      <td>Silver</td>\n",
              "      <td>São Paulo</td>\n",
              "      <td>522</td>\n",
              "      <td>2020-11-04</td>\n",
              "      <td>2020</td>\n",
              "      <td>11</td>\n",
              "      <td>4</td>\n",
              "      <td>11 days</td>\n",
              "    </tr>\n",
              "    <tr>\n",
              "      <th>0</th>\n",
              "      <td>Joao</td>\n",
              "      <td>Celular</td>\n",
              "      <td>Rio de janeiro</td>\n",
              "      <td>535</td>\n",
              "      <td>2020-10-24</td>\n",
              "      <td>2020</td>\n",
              "      <td>10</td>\n",
              "      <td>24</td>\n",
              "      <td>0 days</td>\n",
              "    </tr>\n",
              "    <tr>\n",
              "      <th>2</th>\n",
              "      <td>Danson</td>\n",
              "      <td>Bateria</td>\n",
              "      <td>Rio de janeiro</td>\n",
              "      <td>317</td>\n",
              "      <td>2020-10-26</td>\n",
              "      <td>2020</td>\n",
              "      <td>10</td>\n",
              "      <td>26</td>\n",
              "      <td>2 days</td>\n",
              "    </tr>\n",
              "    <tr>\n",
              "      <th>8</th>\n",
              "      <td>Simba</td>\n",
              "      <td>cameras</td>\n",
              "      <td>Minas Gerais</td>\n",
              "      <td>314</td>\n",
              "      <td>2020-11-03</td>\n",
              "      <td>2020</td>\n",
              "      <td>11</td>\n",
              "      <td>3</td>\n",
              "      <td>10 days</td>\n",
              "    </tr>\n",
              "    <tr>\n",
              "      <th>3</th>\n",
              "      <td>Joeu</td>\n",
              "      <td>Telas</td>\n",
              "      <td>Rio de janeiro</td>\n",
              "      <td>382</td>\n",
              "      <td>2020-10-27</td>\n",
              "      <td>2020</td>\n",
              "      <td>10</td>\n",
              "      <td>27</td>\n",
              "      <td>3 days</td>\n",
              "    </tr>\n",
              "    <tr>\n",
              "      <th>7</th>\n",
              "      <td>Olaff</td>\n",
              "      <td>carregador</td>\n",
              "      <td>Rio de janeiro</td>\n",
              "      <td>156</td>\n",
              "      <td>2020-11-02</td>\n",
              "      <td>2020</td>\n",
              "      <td>11</td>\n",
              "      <td>2</td>\n",
              "      <td>9 days</td>\n",
              "    </tr>\n",
              "    <tr>\n",
              "      <th>7</th>\n",
              "      <td>Olaff</td>\n",
              "      <td>carregador</td>\n",
              "      <td>São Paulo</td>\n",
              "      <td>156</td>\n",
              "      <td>2020-11-02</td>\n",
              "      <td>2020</td>\n",
              "      <td>11</td>\n",
              "      <td>2</td>\n",
              "      <td>9 days</td>\n",
              "    </tr>\n",
              "    <tr>\n",
              "      <th>4</th>\n",
              "      <td>Kisha</td>\n",
              "      <td>Flets</td>\n",
              "      <td>São Paulo</td>\n",
              "      <td>561</td>\n",
              "      <td>2020-10-28</td>\n",
              "      <td>2020</td>\n",
              "      <td>10</td>\n",
              "      <td>28</td>\n",
              "      <td>4 days</td>\n",
              "    </tr>\n",
              "    <tr>\n",
              "      <th>1</th>\n",
              "      <td>Denis</td>\n",
              "      <td>Notbook</td>\n",
              "      <td>Rio de janeiro</td>\n",
              "      <td>108</td>\n",
              "      <td>2020-10-25</td>\n",
              "      <td>2020</td>\n",
              "      <td>10</td>\n",
              "      <td>25</td>\n",
              "      <td>1 days</td>\n",
              "    </tr>\n",
              "    <tr>\n",
              "      <th>4</th>\n",
              "      <td>Kisha</td>\n",
              "      <td>Flets</td>\n",
              "      <td>Minas Gerais</td>\n",
              "      <td>561</td>\n",
              "      <td>2020-10-28</td>\n",
              "      <td>2020</td>\n",
              "      <td>10</td>\n",
              "      <td>28</td>\n",
              "      <td>4 days</td>\n",
              "    </tr>\n",
              "    <tr>\n",
              "      <th>1</th>\n",
              "      <td>Denis</td>\n",
              "      <td>Notbook</td>\n",
              "      <td>Minas Gerais</td>\n",
              "      <td>108</td>\n",
              "      <td>2020-10-25</td>\n",
              "      <td>2020</td>\n",
              "      <td>10</td>\n",
              "      <td>25</td>\n",
              "      <td>1 days</td>\n",
              "    </tr>\n",
              "  </tbody>\n",
              "</table>\n",
              "</div>"
            ],
            "text/plain": [
              "   Vendedor     Produto         Cidades  ... mes_venda dia_venda  diferenca_dias\n",
              "1     Denis     Notbook       São Paulo  ...        10        25          1 days\n",
              "3      Joeu       Telas       São Paulo  ...        10        27          3 days\n",
              "5      Gali    Conector       São Paulo  ...        10        29          5 days\n",
              "6    Panton        Capa    Minas Gerais  ...        10        30          6 days\n",
              "0      Joao     Celular    Minas Gerais  ...        10        24          0 days\n",
              "10     Kali        Gold  Rio de janeiro  ...        11         5         12 days\n",
              "6    Panton        Capa  Rio de janeiro  ...        10        30          6 days\n",
              "2    Danson     Bateria    Minas Gerais  ...        10        26          2 days\n",
              "0      Joao     Celular       São Paulo  ...        10        24          0 days\n",
              "6    Panton        Capa       São Paulo  ...        10        30          6 days\n",
              "9     Diego      Silver  Rio de janeiro  ...        11         4         11 days\n",
              "8     Simba     cameras       São Paulo  ...        11         3         10 days\n",
              "5      Gali    Conector    Minas Gerais  ...        10        29          5 days\n",
              "4     Kisha       Flets  Rio de janeiro  ...        10        28          4 days\n",
              "3      Joeu       Telas    Minas Gerais  ...        10        27          3 days\n",
              "7     Olaff  carregador    Minas Gerais  ...        11         2          9 days\n",
              "10     Kali        Gold    Minas Gerais  ...        11         5         12 days\n",
              "8     Simba     cameras  Rio de janeiro  ...        11         3         10 days\n",
              "10     Kali        Gold       São Paulo  ...        11         5         12 days\n",
              "9     Diego      Silver       São Paulo  ...        11         4         11 days\n",
              "0      Joao     Celular  Rio de janeiro  ...        10        24          0 days\n",
              "2    Danson     Bateria  Rio de janeiro  ...        10        26          2 days\n",
              "8     Simba     cameras    Minas Gerais  ...        11         3         10 days\n",
              "3      Joeu       Telas  Rio de janeiro  ...        10        27          3 days\n",
              "7     Olaff  carregador  Rio de janeiro  ...        11         2          9 days\n",
              "7     Olaff  carregador       São Paulo  ...        11         2          9 days\n",
              "4     Kisha       Flets       São Paulo  ...        10        28          4 days\n",
              "1     Denis     Notbook  Rio de janeiro  ...        10        25          1 days\n",
              "4     Kisha       Flets    Minas Gerais  ...        10        28          4 days\n",
              "1     Denis     Notbook    Minas Gerais  ...        10        25          1 days\n",
              "\n",
              "[30 rows x 9 columns]"
            ]
          },
          "metadata": {
            "tags": []
          },
          "execution_count": 60
        }
      ]
    },
    {
      "cell_type": "code",
      "metadata": {
        "id": "AtFJqEn9dpop"
      },
      "source": [
        "df[\"trimestre_venda\"] = df[\"data\"].dt.quarter"
      ],
      "execution_count": null,
      "outputs": []
    },
    {
      "cell_type": "code",
      "metadata": {
        "colab": {
          "base_uri": "https://localhost:8080/",
          "height": 80
        },
        "id": "ADTt3NPNd-hB",
        "outputId": "d906d33e-9410-4d1e-f654-1513ce3be0ac"
      },
      "source": [
        "df.sample()"
      ],
      "execution_count": null,
      "outputs": [
        {
          "output_type": "execute_result",
          "data": {
            "text/html": [
              "<div>\n",
              "<style scoped>\n",
              "    .dataframe tbody tr th:only-of-type {\n",
              "        vertical-align: middle;\n",
              "    }\n",
              "\n",
              "    .dataframe tbody tr th {\n",
              "        vertical-align: top;\n",
              "    }\n",
              "\n",
              "    .dataframe thead th {\n",
              "        text-align: right;\n",
              "    }\n",
              "</style>\n",
              "<table border=\"1\" class=\"dataframe\">\n",
              "  <thead>\n",
              "    <tr style=\"text-align: right;\">\n",
              "      <th></th>\n",
              "      <th>Vendedor</th>\n",
              "      <th>Produto</th>\n",
              "      <th>Cidades</th>\n",
              "      <th>Valor</th>\n",
              "      <th>data</th>\n",
              "      <th>Ano_Venda</th>\n",
              "      <th>mes_venda</th>\n",
              "      <th>dia_venda</th>\n",
              "      <th>diferenca_dias</th>\n",
              "      <th>trimestre_venda</th>\n",
              "    </tr>\n",
              "  </thead>\n",
              "  <tbody>\n",
              "    <tr>\n",
              "      <th>4</th>\n",
              "      <td>Kisha</td>\n",
              "      <td>Flets</td>\n",
              "      <td>São Paulo</td>\n",
              "      <td>561</td>\n",
              "      <td>2020-10-28</td>\n",
              "      <td>2020</td>\n",
              "      <td>10</td>\n",
              "      <td>28</td>\n",
              "      <td>4 days</td>\n",
              "      <td>4</td>\n",
              "    </tr>\n",
              "  </tbody>\n",
              "</table>\n",
              "</div>"
            ],
            "text/plain": [
              "  Vendedor Produto    Cidades  ... dia_venda diferenca_dias  trimestre_venda\n",
              "4    Kisha   Flets  São Paulo  ...        28         4 days                4\n",
              "\n",
              "[1 rows x 10 columns]"
            ]
          },
          "metadata": {
            "tags": []
          },
          "execution_count": 65
        }
      ]
    },
    {
      "cell_type": "code",
      "metadata": {
        "id": "WfZEnD-BeBTp"
      },
      "source": [
        "vendas_novembro = df.loc[(df[\"data\"].dt.year == 2020) & (df[\"data\"].dt.month == 11)]"
      ],
      "execution_count": null,
      "outputs": []
    },
    {
      "cell_type": "code",
      "metadata": {
        "colab": {
          "base_uri": "https://localhost:8080/",
          "height": 421
        },
        "id": "aF0e9SzoejgQ",
        "outputId": "21d1817c-096a-4eb8-8f5f-460c2b209ae9"
      },
      "source": [
        "vendas_novembro"
      ],
      "execution_count": null,
      "outputs": [
        {
          "output_type": "execute_result",
          "data": {
            "text/html": [
              "<div>\n",
              "<style scoped>\n",
              "    .dataframe tbody tr th:only-of-type {\n",
              "        vertical-align: middle;\n",
              "    }\n",
              "\n",
              "    .dataframe tbody tr th {\n",
              "        vertical-align: top;\n",
              "    }\n",
              "\n",
              "    .dataframe thead th {\n",
              "        text-align: right;\n",
              "    }\n",
              "</style>\n",
              "<table border=\"1\" class=\"dataframe\">\n",
              "  <thead>\n",
              "    <tr style=\"text-align: right;\">\n",
              "      <th></th>\n",
              "      <th>Vendedor</th>\n",
              "      <th>Produto</th>\n",
              "      <th>Cidades</th>\n",
              "      <th>Valor</th>\n",
              "      <th>data</th>\n",
              "      <th>Ano_Venda</th>\n",
              "      <th>mes_venda</th>\n",
              "      <th>dia_venda</th>\n",
              "      <th>diferenca_dias</th>\n",
              "      <th>trimestre_venda</th>\n",
              "    </tr>\n",
              "  </thead>\n",
              "  <tbody>\n",
              "    <tr>\n",
              "      <th>7</th>\n",
              "      <td>Olaff</td>\n",
              "      <td>carregador</td>\n",
              "      <td>Minas Gerais</td>\n",
              "      <td>156</td>\n",
              "      <td>2020-11-02</td>\n",
              "      <td>2020</td>\n",
              "      <td>11</td>\n",
              "      <td>2</td>\n",
              "      <td>9 days</td>\n",
              "      <td>4</td>\n",
              "    </tr>\n",
              "    <tr>\n",
              "      <th>8</th>\n",
              "      <td>Simba</td>\n",
              "      <td>cameras</td>\n",
              "      <td>Minas Gerais</td>\n",
              "      <td>314</td>\n",
              "      <td>2020-11-03</td>\n",
              "      <td>2020</td>\n",
              "      <td>11</td>\n",
              "      <td>3</td>\n",
              "      <td>10 days</td>\n",
              "      <td>4</td>\n",
              "    </tr>\n",
              "    <tr>\n",
              "      <th>9</th>\n",
              "      <td>Diego</td>\n",
              "      <td>Silver</td>\n",
              "      <td>Minas Gerais</td>\n",
              "      <td>522</td>\n",
              "      <td>2020-11-04</td>\n",
              "      <td>2020</td>\n",
              "      <td>11</td>\n",
              "      <td>4</td>\n",
              "      <td>11 days</td>\n",
              "      <td>4</td>\n",
              "    </tr>\n",
              "    <tr>\n",
              "      <th>10</th>\n",
              "      <td>Kali</td>\n",
              "      <td>Gold</td>\n",
              "      <td>Minas Gerais</td>\n",
              "      <td>156</td>\n",
              "      <td>2020-11-05</td>\n",
              "      <td>2020</td>\n",
              "      <td>11</td>\n",
              "      <td>5</td>\n",
              "      <td>12 days</td>\n",
              "      <td>4</td>\n",
              "    </tr>\n",
              "    <tr>\n",
              "      <th>7</th>\n",
              "      <td>Olaff</td>\n",
              "      <td>carregador</td>\n",
              "      <td>Rio de janeiro</td>\n",
              "      <td>156</td>\n",
              "      <td>2020-11-02</td>\n",
              "      <td>2020</td>\n",
              "      <td>11</td>\n",
              "      <td>2</td>\n",
              "      <td>9 days</td>\n",
              "      <td>4</td>\n",
              "    </tr>\n",
              "    <tr>\n",
              "      <th>8</th>\n",
              "      <td>Simba</td>\n",
              "      <td>cameras</td>\n",
              "      <td>Rio de janeiro</td>\n",
              "      <td>314</td>\n",
              "      <td>2020-11-03</td>\n",
              "      <td>2020</td>\n",
              "      <td>11</td>\n",
              "      <td>3</td>\n",
              "      <td>10 days</td>\n",
              "      <td>4</td>\n",
              "    </tr>\n",
              "    <tr>\n",
              "      <th>9</th>\n",
              "      <td>Diego</td>\n",
              "      <td>Silver</td>\n",
              "      <td>Rio de janeiro</td>\n",
              "      <td>522</td>\n",
              "      <td>2020-11-04</td>\n",
              "      <td>2020</td>\n",
              "      <td>11</td>\n",
              "      <td>4</td>\n",
              "      <td>11 days</td>\n",
              "      <td>4</td>\n",
              "    </tr>\n",
              "    <tr>\n",
              "      <th>10</th>\n",
              "      <td>Kali</td>\n",
              "      <td>Gold</td>\n",
              "      <td>Rio de janeiro</td>\n",
              "      <td>156</td>\n",
              "      <td>2020-11-05</td>\n",
              "      <td>2020</td>\n",
              "      <td>11</td>\n",
              "      <td>5</td>\n",
              "      <td>12 days</td>\n",
              "      <td>4</td>\n",
              "    </tr>\n",
              "    <tr>\n",
              "      <th>7</th>\n",
              "      <td>Olaff</td>\n",
              "      <td>carregador</td>\n",
              "      <td>São Paulo</td>\n",
              "      <td>156</td>\n",
              "      <td>2020-11-02</td>\n",
              "      <td>2020</td>\n",
              "      <td>11</td>\n",
              "      <td>2</td>\n",
              "      <td>9 days</td>\n",
              "      <td>4</td>\n",
              "    </tr>\n",
              "    <tr>\n",
              "      <th>8</th>\n",
              "      <td>Simba</td>\n",
              "      <td>cameras</td>\n",
              "      <td>São Paulo</td>\n",
              "      <td>314</td>\n",
              "      <td>2020-11-03</td>\n",
              "      <td>2020</td>\n",
              "      <td>11</td>\n",
              "      <td>3</td>\n",
              "      <td>10 days</td>\n",
              "      <td>4</td>\n",
              "    </tr>\n",
              "    <tr>\n",
              "      <th>9</th>\n",
              "      <td>Diego</td>\n",
              "      <td>Silver</td>\n",
              "      <td>São Paulo</td>\n",
              "      <td>522</td>\n",
              "      <td>2020-11-04</td>\n",
              "      <td>2020</td>\n",
              "      <td>11</td>\n",
              "      <td>4</td>\n",
              "      <td>11 days</td>\n",
              "      <td>4</td>\n",
              "    </tr>\n",
              "    <tr>\n",
              "      <th>10</th>\n",
              "      <td>Kali</td>\n",
              "      <td>Gold</td>\n",
              "      <td>São Paulo</td>\n",
              "      <td>156</td>\n",
              "      <td>2020-11-05</td>\n",
              "      <td>2020</td>\n",
              "      <td>11</td>\n",
              "      <td>5</td>\n",
              "      <td>12 days</td>\n",
              "      <td>4</td>\n",
              "    </tr>\n",
              "  </tbody>\n",
              "</table>\n",
              "</div>"
            ],
            "text/plain": [
              "   Vendedor     Produto  ... diferenca_dias trimestre_venda\n",
              "7     Olaff  carregador  ...         9 days               4\n",
              "8     Simba     cameras  ...        10 days               4\n",
              "9     Diego      Silver  ...        11 days               4\n",
              "10     Kali        Gold  ...        12 days               4\n",
              "7     Olaff  carregador  ...         9 days               4\n",
              "8     Simba     cameras  ...        10 days               4\n",
              "9     Diego      Silver  ...        11 days               4\n",
              "10     Kali        Gold  ...        12 days               4\n",
              "7     Olaff  carregador  ...         9 days               4\n",
              "8     Simba     cameras  ...        10 days               4\n",
              "9     Diego      Silver  ...        11 days               4\n",
              "10     Kali        Gold  ...        12 days               4\n",
              "\n",
              "[12 rows x 10 columns]"
            ]
          },
          "metadata": {
            "tags": []
          },
          "execution_count": 67
        }
      ]
    },
    {
      "cell_type": "code",
      "metadata": {
        "colab": {
          "base_uri": "https://localhost:8080/",
          "height": 204
        },
        "id": "IZ0Yb0a2emQ4",
        "outputId": "8f8f2947-a3f5-48cf-8013-0e2c74f87f86"
      },
      "source": [
        "vendas_novembro.sample(5)"
      ],
      "execution_count": null,
      "outputs": [
        {
          "output_type": "execute_result",
          "data": {
            "text/html": [
              "<div>\n",
              "<style scoped>\n",
              "    .dataframe tbody tr th:only-of-type {\n",
              "        vertical-align: middle;\n",
              "    }\n",
              "\n",
              "    .dataframe tbody tr th {\n",
              "        vertical-align: top;\n",
              "    }\n",
              "\n",
              "    .dataframe thead th {\n",
              "        text-align: right;\n",
              "    }\n",
              "</style>\n",
              "<table border=\"1\" class=\"dataframe\">\n",
              "  <thead>\n",
              "    <tr style=\"text-align: right;\">\n",
              "      <th></th>\n",
              "      <th>Vendedor</th>\n",
              "      <th>Produto</th>\n",
              "      <th>Cidades</th>\n",
              "      <th>Valor</th>\n",
              "      <th>data</th>\n",
              "      <th>Ano_Venda</th>\n",
              "      <th>mes_venda</th>\n",
              "      <th>dia_venda</th>\n",
              "      <th>diferenca_dias</th>\n",
              "      <th>trimestre_venda</th>\n",
              "    </tr>\n",
              "  </thead>\n",
              "  <tbody>\n",
              "    <tr>\n",
              "      <th>9</th>\n",
              "      <td>Diego</td>\n",
              "      <td>Silver</td>\n",
              "      <td>São Paulo</td>\n",
              "      <td>522</td>\n",
              "      <td>2020-11-04</td>\n",
              "      <td>2020</td>\n",
              "      <td>11</td>\n",
              "      <td>4</td>\n",
              "      <td>11 days</td>\n",
              "      <td>4</td>\n",
              "    </tr>\n",
              "    <tr>\n",
              "      <th>7</th>\n",
              "      <td>Olaff</td>\n",
              "      <td>carregador</td>\n",
              "      <td>Minas Gerais</td>\n",
              "      <td>156</td>\n",
              "      <td>2020-11-02</td>\n",
              "      <td>2020</td>\n",
              "      <td>11</td>\n",
              "      <td>2</td>\n",
              "      <td>9 days</td>\n",
              "      <td>4</td>\n",
              "    </tr>\n",
              "    <tr>\n",
              "      <th>7</th>\n",
              "      <td>Olaff</td>\n",
              "      <td>carregador</td>\n",
              "      <td>São Paulo</td>\n",
              "      <td>156</td>\n",
              "      <td>2020-11-02</td>\n",
              "      <td>2020</td>\n",
              "      <td>11</td>\n",
              "      <td>2</td>\n",
              "      <td>9 days</td>\n",
              "      <td>4</td>\n",
              "    </tr>\n",
              "    <tr>\n",
              "      <th>8</th>\n",
              "      <td>Simba</td>\n",
              "      <td>cameras</td>\n",
              "      <td>Minas Gerais</td>\n",
              "      <td>314</td>\n",
              "      <td>2020-11-03</td>\n",
              "      <td>2020</td>\n",
              "      <td>11</td>\n",
              "      <td>3</td>\n",
              "      <td>10 days</td>\n",
              "      <td>4</td>\n",
              "    </tr>\n",
              "    <tr>\n",
              "      <th>9</th>\n",
              "      <td>Diego</td>\n",
              "      <td>Silver</td>\n",
              "      <td>Minas Gerais</td>\n",
              "      <td>522</td>\n",
              "      <td>2020-11-04</td>\n",
              "      <td>2020</td>\n",
              "      <td>11</td>\n",
              "      <td>4</td>\n",
              "      <td>11 days</td>\n",
              "      <td>4</td>\n",
              "    </tr>\n",
              "  </tbody>\n",
              "</table>\n",
              "</div>"
            ],
            "text/plain": [
              "  Vendedor     Produto       Cidades  ... dia_venda diferenca_dias  trimestre_venda\n",
              "9    Diego      Silver     São Paulo  ...         4        11 days                4\n",
              "7    Olaff  carregador  Minas Gerais  ...         2         9 days                4\n",
              "7    Olaff  carregador     São Paulo  ...         2         9 days                4\n",
              "8    Simba     cameras  Minas Gerais  ...         3        10 days                4\n",
              "9    Diego      Silver  Minas Gerais  ...         4        11 days                4\n",
              "\n",
              "[5 rows x 10 columns]"
            ]
          },
          "metadata": {
            "tags": []
          },
          "execution_count": 68
        }
      ]
    },
    {
      "cell_type": "code",
      "metadata": {
        "colab": {
          "base_uri": "https://localhost:8080/"
        },
        "id": "uACtIdr5esOA",
        "outputId": "d79a6db8-d6b4-49a3-ae83-ae37e5da319e"
      },
      "source": [
        "df[\"Vendedor\"].value_counts(ascending=False)"
      ],
      "execution_count": null,
      "outputs": [
        {
          "output_type": "execute_result",
          "data": {
            "text/plain": [
              "Simba     3\n",
              "Kisha     3\n",
              "Gali      3\n",
              "Olaff     3\n",
              "Joeu      3\n",
              "Kali      3\n",
              "Danson    3\n",
              "Diego     3\n",
              "Panton    3\n",
              "Denis     3\n",
              "Joao      3\n",
              "Name: Vendedor, dtype: int64"
            ]
          },
          "metadata": {
            "tags": []
          },
          "execution_count": 70
        }
      ]
    },
    {
      "cell_type": "code",
      "metadata": {
        "colab": {
          "base_uri": "https://localhost:8080/",
          "height": 291
        },
        "id": "WlQDCPVHfCTZ",
        "outputId": "59e6581a-edfe-4294-ebd0-c3335ae38e43"
      },
      "source": [
        "#Grafico de barras\n",
        "df[\"Valor\"].value_counts(ascending=False).plot.bar()"
      ],
      "execution_count": null,
      "outputs": [
        {
          "output_type": "execute_result",
          "data": {
            "text/plain": [
              "<matplotlib.axes._subplots.AxesSubplot at 0x7fb3bde32cd0>"
            ]
          },
          "metadata": {
            "tags": []
          },
          "execution_count": 73
        },
        {
          "output_type": "display_data",
          "data": {
            "image/png": "[encoded data removed]",
            "text/plain": [
              "<Figure size 432x288 with 1 Axes>"
            ]
          },
          "metadata": {
            "tags": [],
            "needs_background": "light"
          }
        }
      ]
    },
    {
      "cell_type": "code",
      "metadata": {
        "colab": {
          "base_uri": "https://localhost:8080/",
          "height": 265
        },
        "id": "urirrTAhfW9J",
        "outputId": "bfebc083-8455-43a1-cd0f-dca93d85db54"
      },
      "source": [
        "df[\"Valor\"].value_counts(ascending=True).plot.barh();"
      ],
      "execution_count": null,
      "outputs": [
        {
          "output_type": "display_data",
          "data": {
            "image/png": "[encoded data removed]",
            "text/plain": [
              "<Figure size 432x288 with 1 Axes>"
            ]
          },
          "metadata": {
            "tags": [],
            "needs_background": "light"
          }
        }
      ]
    },
    {
      "cell_type": "code",
      "metadata": {
        "colab": {
          "base_uri": "https://localhost:8080/",
          "height": 248
        },
        "id": "RE8GWvQ1fh4p",
        "outputId": "99257842-1a3c-4d8f-9c5b-15c7253df3ce"
      },
      "source": [
        "df.groupby(df[\"data\"].dt.year)[\"trimestre_venda\"].sum().plot.pie();"
      ],
      "execution_count": null,
      "outputs": [
        {
          "output_type": "display_data",
          "data": {
            "image/png": "[encoded data removed]",
            "text/plain": [
              "<Figure size 432x288 with 1 Axes>"
            ]
          },
          "metadata": {
            "tags": []
          }
        }
      ]
    },
    {
      "cell_type": "code",
      "metadata": {
        "colab": {
          "base_uri": "https://localhost:8080/",
          "height": 354
        },
        "id": "qmYTJ3lpgPk5",
        "outputId": "172c0672-11e8-4836-ac9f-388b716a7864"
      },
      "source": [
        "#adcionando um titulo e alterarndo o nome dos eixos\n",
        "import matplotlib.pyplot as plt\n",
        "df[\"Cidades\"].value_counts().plot.bar(title=\"Total de vendas por cidade\")\n",
        "plt.xlabel(\"Cidades\")\n",
        "plt.ylabel(\"Total vendas\");"
      ],
      "execution_count": null,
      "outputs": [
        {
          "output_type": "display_data",
          "data": {
            "image/png": "[encoded data removed]",
            "text/plain": [
              "<Figure size 432x288 with 1 Axes>"
            ]
          },
          "metadata": {
            "tags": [],
            "needs_background": "light"
          }
        }
      ]
    },
    {
      "cell_type": "code",
      "metadata": {
        "colab": {
          "base_uri": "https://localhost:8080/",
          "height": 354
        },
        "id": "Ho6Nuq-nhm-9",
        "outputId": "22d69cc9-9054-4db4-a040-9b441ec8a231"
      },
      "source": [
        "#Alterando a cor\n",
        "import matplotlib.pyplot as plt\n",
        "df[\"Cidades\"].value_counts().plot.bar(title=\"Total de vendas por cidade\", color=\"green\")\n",
        "plt.xlabel(\"Cidades\")\n",
        "plt.ylabel(\"Total vendas\");"
      ],
      "execution_count": null,
      "outputs": [
        {
          "output_type": "display_data",
          "data": {
            "image/png": "[encoded data removed]",
            "text/plain": [
              "<Figure size 432x288 with 1 Axes>"
            ]
          },
          "metadata": {
            "tags": [],
            "needs_background": "light"
          }
        }
      ]
    },
    {
      "cell_type": "code",
      "metadata": {
        "id": "UF9EuMmyiMjK"
      },
      "source": [
        "#alterando o estilo\n",
        "plt.style.use(\"ggplot\")"
      ],
      "execution_count": null,
      "outputs": []
    },
    {
      "cell_type": "code",
      "metadata": {
        "colab": {
          "base_uri": "https://localhost:8080/",
          "height": 316
        },
        "id": "nCDUlPP_ia0J",
        "outputId": "98ba2f1a-6d1e-401c-f950-ce6452d24557"
      },
      "source": [
        "#Alterando a cor\n",
        "import matplotlib.pyplot as plt\n",
        "df[\"Cidades\"].value_counts().plot(title=\"Total de vendas por cidade\", color=\"green\")\n",
        "plt.xlabel(\"Cidades\")\n",
        "plt.ylabel(\"Total vendas\");\n",
        "plt.legend()"
      ],
      "execution_count": null,
      "outputs": [
        {
          "output_type": "execute_result",
          "data": {
            "text/plain": [
              "<matplotlib.legend.Legend at 0x7fb3bd608e50>"
            ]
          },
          "metadata": {
            "tags": []
          },
          "execution_count": 94
        },
        {
          "output_type": "display_data",
          "data": {
            "image/png": "[encoded data removed]",
            "text/plain": [
              "<Figure size 432x288 with 1 Axes>"
            ]
          },
          "metadata": {
            "tags": []
          }
        }
      ]
    },
    {
      "cell_type": "code",
      "metadata": {
        "colab": {
          "base_uri": "https://localhost:8080/",
          "height": 265
        },
        "id": "XlSPT7oTidQh",
        "outputId": "dc9a5682-9145-4eb0-9418-37afe6d6b7d4"
      },
      "source": [
        "plt.hist(df[\"Valor\"], color=\"red\");"
      ],
      "execution_count": null,
      "outputs": [
        {
          "output_type": "display_data",
          "data": {
            "image/png": "[encoded data removed]",
            "text/plain": [
              "<Figure size 432x288 with 1 Axes>"
            ]
          },
          "metadata": {
            "tags": []
          }
        }
      ]
    },
    {
      "cell_type": "code",
      "metadata": {
        "colab": {
          "base_uri": "https://localhost:8080/",
          "height": 282
        },
        "id": "DjsXrHhpi9tJ",
        "outputId": "01ee6c72-4d21-41bc-bf17-e3d5bcbfc5dd"
      },
      "source": [
        "plt.scatter(x=df[\"dia_venda\"], y = df[\"Valor\"])"
      ],
      "execution_count": null,
      "outputs": [
        {
          "output_type": "execute_result",
          "data": {
            "text/plain": [
              "<matplotlib.collections.PathCollection at 0x7fb3beece910>"
            ]
          },
          "metadata": {
            "tags": []
          },
          "execution_count": 98
        },
        {
          "output_type": "display_data",
          "data": {
            "image/png": "[encoded data removed]",
            "text/plain": [
              "<Figure size 432x288 with 1 Axes>"
            ]
          },
          "metadata": {
            "tags": []
          }
        }
      ]
    },
    {
      "cell_type": "code",
      "metadata": {
        "id": "SD68bHWQrF5l"
      },
      "source": [
        ""
      ],
      "execution_count": null,
      "outputs": []
    }
  ]
}