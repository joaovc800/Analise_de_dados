{
  "nbformat": 4,
  "nbformat_minor": 0,
  "metadata": {
    "colab": {
      "name": "pandas.ipynb",
      "provenance": [],
      "collapsed_sections": [],
      "mount_file_id": "1mn1VBAH74ZLkzi1MbJ3zFdRg0QuE3M12",
      "authorship_tag": "ABX9TyMYoMJtnZMohsb5wCH0OlNQ",
      "include_colab_link": true
    },
    "kernelspec": {
      "name": "python3",
      "display_name": "Python 3"
    },
    "language_info": {
      "name": "python"
    }
  },
  "cells": [
    {
      "cell_type": "markdown",
      "metadata": {
        "id": "view-in-github",
        "colab_type": "text"
      },
      "source": [
        "<a href=\"https://colab.research.google.com/github/joaovc800/Analise_de_dados/blob/main/pandas.ipynb\" target=\"_parent\"><img src=\"https://colab.research.google.com/assets/colab-badge.svg\" alt=\"Open In Colab\"/></a>"
      ]
    },
    {
      "cell_type": "code",
      "metadata": {
        "id": "9idTPWxY6HPZ"
      },
      "source": [
        "#importando a bibliotéca pandas\n",
        "import pandas as pd"
      ],
      "execution_count": null,
      "outputs": []
    },
    {
      "cell_type": "code",
      "metadata": {
        "id": "Zhg_gtJyE0pJ"
      },
      "source": [
        "df = pd.read_csv(\"/content/drive/MyDrive/Datasets/dados.csv\",sep=\";\")"
      ],
      "execution_count": null,
      "outputs": []
    },
    {
      "cell_type": "code",
      "metadata": {
        "colab": {
          "base_uri": "https://localhost:8080/",
          "height": 204
        },
        "id": "xOWKVfqFE_bf",
        "outputId": "7d49d219-f437-4303-a185-f264cdf84e4a"
      },
      "source": [
        "df.head()"
      ],
      "execution_count": null,
      "outputs": [
        {
          "output_type": "execute_result",
          "data": {
            "text/html": [
              "<div>\n",
              "<style scoped>\n",
              "    .dataframe tbody tr th:only-of-type {\n",
              "        vertical-align: middle;\n",
              "    }\n",
              "\n",
              "    .dataframe tbody tr th {\n",
              "        vertical-align: top;\n",
              "    }\n",
              "\n",
              "    .dataframe thead th {\n",
              "        text-align: right;\n",
              "    }\n",
              "</style>\n",
              "<table border=\"1\" class=\"dataframe\">\n",
              "  <thead>\n",
              "    <tr style=\"text-align: right;\">\n",
              "      <th></th>\n",
              "      <th>Nome</th>\n",
              "      <th>Idade</th>\n",
              "      <th>Profissao</th>\n",
              "      <th>Salario</th>\n",
              "      <th>Empresa</th>\n",
              "    </tr>\n",
              "  </thead>\n",
              "  <tbody>\n",
              "    <tr>\n",
              "      <th>0</th>\n",
              "      <td>Joao</td>\n",
              "      <td>43</td>\n",
              "      <td>Service Desk</td>\n",
              "      <td>4833</td>\n",
              "      <td>Uninove</td>\n",
              "    </tr>\n",
              "    <tr>\n",
              "      <th>1</th>\n",
              "      <td>Vinicius</td>\n",
              "      <td>50</td>\n",
              "      <td>Service Desk</td>\n",
              "      <td>5235</td>\n",
              "      <td>Uninove</td>\n",
              "    </tr>\n",
              "    <tr>\n",
              "      <th>2</th>\n",
              "      <td>Denilson</td>\n",
              "      <td>31</td>\n",
              "      <td>Data Engineer</td>\n",
              "      <td>5432</td>\n",
              "      <td>IBM</td>\n",
              "    </tr>\n",
              "    <tr>\n",
              "      <th>3</th>\n",
              "      <td>Xuxa</td>\n",
              "      <td>43</td>\n",
              "      <td>Carteiro</td>\n",
              "      <td>1267</td>\n",
              "      <td>Correios</td>\n",
              "    </tr>\n",
              "    <tr>\n",
              "      <th>4</th>\n",
              "      <td>Fernando</td>\n",
              "      <td>34</td>\n",
              "      <td>Uber</td>\n",
              "      <td>1784</td>\n",
              "      <td>Uber</td>\n",
              "    </tr>\n",
              "  </tbody>\n",
              "</table>\n",
              "</div>"
            ],
            "text/plain": [
              "       Nome  Idade      Profissao  Salario   Empresa\n",
              "0      Joao     43   Service Desk     4833   Uninove\n",
              "1  Vinicius     50   Service Desk     5235   Uninove\n",
              "2  Denilson     31  Data Engineer     5432       IBM\n",
              "3      Xuxa     43       Carteiro     1267  Correios\n",
              "4  Fernando     34           Uber     1784      Uber"
            ]
          },
          "metadata": {
            "tags": []
          },
          "execution_count": 98
        }
      ]
    },
    {
      "cell_type": "code",
      "metadata": {
        "colab": {
          "base_uri": "https://localhost:8080/"
        },
        "id": "o6ZuyU6OFFUo",
        "outputId": "e796a8c2-d3b0-4f19-8991-553af1f66817"
      },
      "source": [
        "df.shape"
      ],
      "execution_count": null,
      "outputs": [
        {
          "output_type": "execute_result",
          "data": {
            "text/plain": [
              "(18, 5)"
            ]
          },
          "metadata": {
            "tags": []
          },
          "execution_count": 99
        }
      ]
    },
    {
      "cell_type": "code",
      "metadata": {
        "colab": {
          "base_uri": "https://localhost:8080/"
        },
        "id": "poqwP3uQFhxQ",
        "outputId": "cf7d5701-a55e-4643-ecac-84a35349fa6c"
      },
      "source": [
        "df.dtypes"
      ],
      "execution_count": null,
      "outputs": [
        {
          "output_type": "execute_result",
          "data": {
            "text/plain": [
              "Nome         object\n",
              "Idade         int64\n",
              "Profissao    object\n",
              "Salario       int64\n",
              "Empresa      object\n",
              "dtype: object"
            ]
          },
          "metadata": {
            "tags": []
          },
          "execution_count": 100
        }
      ]
    },
    {
      "cell_type": "code",
      "metadata": {
        "colab": {
          "base_uri": "https://localhost:8080/",
          "height": 204
        },
        "id": "OEyzA2rFFk-Q",
        "outputId": "4e162e34-0055-4bd3-d408-840603dc1e21"
      },
      "source": [
        "df.tail()"
      ],
      "execution_count": null,
      "outputs": [
        {
          "output_type": "execute_result",
          "data": {
            "text/html": [
              "<div>\n",
              "<style scoped>\n",
              "    .dataframe tbody tr th:only-of-type {\n",
              "        vertical-align: middle;\n",
              "    }\n",
              "\n",
              "    .dataframe tbody tr th {\n",
              "        vertical-align: top;\n",
              "    }\n",
              "\n",
              "    .dataframe thead th {\n",
              "        text-align: right;\n",
              "    }\n",
              "</style>\n",
              "<table border=\"1\" class=\"dataframe\">\n",
              "  <thead>\n",
              "    <tr style=\"text-align: right;\">\n",
              "      <th></th>\n",
              "      <th>Nome</th>\n",
              "      <th>Idade</th>\n",
              "      <th>Profissao</th>\n",
              "      <th>Salario</th>\n",
              "      <th>Empresa</th>\n",
              "    </tr>\n",
              "  </thead>\n",
              "  <tbody>\n",
              "    <tr>\n",
              "      <th>13</th>\n",
              "      <td>Ferreira</td>\n",
              "      <td>54</td>\n",
              "      <td>Chefe da seguranca</td>\n",
              "      <td>3537</td>\n",
              "      <td>Shopping</td>\n",
              "    </tr>\n",
              "    <tr>\n",
              "      <th>14</th>\n",
              "      <td>Antonio</td>\n",
              "      <td>33</td>\n",
              "      <td>Lider da seguranca</td>\n",
              "      <td>5230</td>\n",
              "      <td>Ford</td>\n",
              "    </tr>\n",
              "    <tr>\n",
              "      <th>15</th>\n",
              "      <td>VanderVan</td>\n",
              "      <td>56</td>\n",
              "      <td>Porteiro</td>\n",
              "      <td>2063</td>\n",
              "      <td>Tulipas</td>\n",
              "    </tr>\n",
              "    <tr>\n",
              "      <th>16</th>\n",
              "      <td>Rogerio</td>\n",
              "      <td>24</td>\n",
              "      <td>Seguranca</td>\n",
              "      <td>2342</td>\n",
              "      <td>Monza</td>\n",
              "    </tr>\n",
              "    <tr>\n",
              "      <th>17</th>\n",
              "      <td>Marcos</td>\n",
              "      <td>31</td>\n",
              "      <td>Analista de relacionamento</td>\n",
              "      <td>2296</td>\n",
              "      <td>Uninove</td>\n",
              "    </tr>\n",
              "  </tbody>\n",
              "</table>\n",
              "</div>"
            ],
            "text/plain": [
              "         Nome  Idade                   Profissao  Salario   Empresa\n",
              "13   Ferreira     54          Chefe da seguranca     3537  Shopping\n",
              "14    Antonio     33          Lider da seguranca     5230      Ford\n",
              "15  VanderVan     56                    Porteiro     2063   Tulipas\n",
              "16    Rogerio     24                   Seguranca     2342     Monza\n",
              "17     Marcos     31  Analista de relacionamento     2296   Uninove"
            ]
          },
          "metadata": {
            "tags": []
          },
          "execution_count": 102
        }
      ]
    },
    {
      "cell_type": "code",
      "metadata": {
        "colab": {
          "base_uri": "https://localhost:8080/",
          "height": 297
        },
        "id": "__FBQJeKFn5o",
        "outputId": "c6e8c532-3e2c-41c3-90c1-c2ac7403b02e"
      },
      "source": [
        "df.describe()"
      ],
      "execution_count": null,
      "outputs": [
        {
          "output_type": "execute_result",
          "data": {
            "text/html": [
              "<div>\n",
              "<style scoped>\n",
              "    .dataframe tbody tr th:only-of-type {\n",
              "        vertical-align: middle;\n",
              "    }\n",
              "\n",
              "    .dataframe tbody tr th {\n",
              "        vertical-align: top;\n",
              "    }\n",
              "\n",
              "    .dataframe thead th {\n",
              "        text-align: right;\n",
              "    }\n",
              "</style>\n",
              "<table border=\"1\" class=\"dataframe\">\n",
              "  <thead>\n",
              "    <tr style=\"text-align: right;\">\n",
              "      <th></th>\n",
              "      <th>Idade</th>\n",
              "      <th>Salario</th>\n",
              "    </tr>\n",
              "  </thead>\n",
              "  <tbody>\n",
              "    <tr>\n",
              "      <th>count</th>\n",
              "      <td>18.000000</td>\n",
              "      <td>18.000000</td>\n",
              "    </tr>\n",
              "    <tr>\n",
              "      <th>mean</th>\n",
              "      <td>39.222222</td>\n",
              "      <td>3431.000000</td>\n",
              "    </tr>\n",
              "    <tr>\n",
              "      <th>std</th>\n",
              "      <td>12.845487</td>\n",
              "      <td>1629.855966</td>\n",
              "    </tr>\n",
              "    <tr>\n",
              "      <th>min</th>\n",
              "      <td>18.000000</td>\n",
              "      <td>1267.000000</td>\n",
              "    </tr>\n",
              "    <tr>\n",
              "      <th>25%</th>\n",
              "      <td>31.000000</td>\n",
              "      <td>2121.250000</td>\n",
              "    </tr>\n",
              "    <tr>\n",
              "      <th>50%</th>\n",
              "      <td>38.000000</td>\n",
              "      <td>3220.500000</td>\n",
              "    </tr>\n",
              "    <tr>\n",
              "      <th>75%</th>\n",
              "      <td>51.500000</td>\n",
              "      <td>5130.750000</td>\n",
              "    </tr>\n",
              "    <tr>\n",
              "      <th>max</th>\n",
              "      <td>59.000000</td>\n",
              "      <td>5774.000000</td>\n",
              "    </tr>\n",
              "  </tbody>\n",
              "</table>\n",
              "</div>"
            ],
            "text/plain": [
              "           Idade      Salario\n",
              "count  18.000000    18.000000\n",
              "mean   39.222222  3431.000000\n",
              "std    12.845487  1629.855966\n",
              "min    18.000000  1267.000000\n",
              "25%    31.000000  2121.250000\n",
              "50%    38.000000  3220.500000\n",
              "75%    51.500000  5130.750000\n",
              "max    59.000000  5774.000000"
            ]
          },
          "metadata": {
            "tags": []
          },
          "execution_count": 103
        }
      ]
    },
    {
      "cell_type": "code",
      "metadata": {
        "colab": {
          "base_uri": "https://localhost:8080/"
        },
        "id": "xou07_lHF1Jw",
        "outputId": "471561c8-af24-470d-8ff7-c4245bf535e7"
      },
      "source": [
        "df[\"Empresa\"].unique()"
      ],
      "execution_count": null,
      "outputs": [
        {
          "output_type": "execute_result",
          "data": {
            "text/plain": [
              "array(['Uninove', 'IBM', 'Correios', 'Uber', 'Fensa', 'Corinthians',\n",
              "       'BMW', 'Cacau show', 'Shopping', 'Ford', 'Tulipas', 'Monza'],\n",
              "      dtype=object)"
            ]
          },
          "metadata": {
            "tags": []
          },
          "execution_count": 106
        }
      ]
    },
    {
      "cell_type": "code",
      "metadata": {
        "colab": {
          "base_uri": "https://localhost:8080/"
        },
        "id": "kNWMqSEgGHm5",
        "outputId": "175399b4-93bd-4d54-cac3-2d2072cf44ab"
      },
      "source": [
        "df.groupby(\"Empresa\")[\"Nome\"].nunique()"
      ],
      "execution_count": null,
      "outputs": [
        {
          "output_type": "execute_result",
          "data": {
            "text/plain": [
              "Empresa\n",
              "BMW            1\n",
              "Cacau show     1\n",
              "Corinthians    1\n",
              "Correios       1\n",
              "Fensa          1\n",
              "Ford           1\n",
              "IBM            1\n",
              "Monza          1\n",
              "Shopping       1\n",
              "Tulipas        1\n",
              "Uber           1\n",
              "Uninove        7\n",
              "Name: Nome, dtype: int64"
            ]
          },
          "metadata": {
            "tags": []
          },
          "execution_count": 111
        }
      ]
    },
    {
      "cell_type": "code",
      "metadata": {
        "id": "NoslBm8uOJIA"
      },
      "source": [
        ""
      ],
      "execution_count": null,
      "outputs": []
    }
  ]
}